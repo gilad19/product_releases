{
 "cells": [
  {
   "cell_type": "code",
   "execution_count": 1,
   "metadata": {},
   "outputs": [],
   "source": [
    "import pandas as pd"
   ]
  },
  {
   "cell_type": "code",
   "execution_count": 25,
   "metadata": {},
   "outputs": [],
   "source": [
    "pd.set_option('display.max_colwidth', None)"
   ]
  },
  {
   "cell_type": "code",
   "execution_count": 2,
   "metadata": {},
   "outputs": [],
   "source": [
    "file_dir = \"/Users/gfuchs/Desktop/Projects/DATA/retail_events/product_releases/Appen_reports/job_1797928/0_to_30k/\"\n",
    "file_name = \"a1797928_0to30k.csv\""
   ]
  },
  {
   "cell_type": "code",
   "execution_count": 3,
   "metadata": {},
   "outputs": [
    {
     "data": {
      "text/plain": [
       "(30018, 9)"
      ]
     },
     "execution_count": 3,
     "metadata": {},
     "output_type": "execute_result"
    }
   ],
   "source": [
    "df = pd.read_csv(f\"{file_dir}/{file_name}\")\n",
    "df.shape"
   ]
  },
  {
   "cell_type": "code",
   "execution_count": 4,
   "metadata": {},
   "outputs": [
    {
     "data": {
      "text/plain": [
       "Index(['_unit_id', '_golden', '_unit_state', '_trusted_judgments',\n",
       "       '_last_judgment_at', 'which_category_best_fits_this_text_',\n",
       "       'which_category_best_fits_this_text_:confidence', 'text',\n",
       "       'which_category_best_fits_this_text__gold'],\n",
       "      dtype='object')"
      ]
     },
     "execution_count": 4,
     "metadata": {},
     "output_type": "execute_result"
    }
   ],
   "source": [
    "df.columns"
   ]
  },
  {
   "cell_type": "code",
   "execution_count": 5,
   "metadata": {},
   "outputs": [
    {
     "data": {
      "text/plain": [
       "False    30000\n",
       "True        18\n",
       "Name: _golden, dtype: int64"
      ]
     },
     "execution_count": 5,
     "metadata": {},
     "output_type": "execute_result"
    }
   ],
   "source": [
    "df._golden.value_counts()"
   ]
  },
  {
   "cell_type": "code",
   "execution_count": 6,
   "metadata": {},
   "outputs": [
    {
     "data": {
      "text/plain": [
       "(30000, 9)"
      ]
     },
     "execution_count": 6,
     "metadata": {},
     "output_type": "execute_result"
    }
   ],
   "source": [
    "df_no_golden = df[df._golden == False]\n",
    "df_no_golden.shape"
   ]
  },
  {
   "cell_type": "code",
   "execution_count": 7,
   "metadata": {},
   "outputs": [
    {
     "data": {
      "text/plain": [
       "Series([], Name: which_category_best_fits_this_text__gold, dtype: int64)"
      ]
     },
     "execution_count": 7,
     "metadata": {},
     "output_type": "execute_result"
    }
   ],
   "source": [
    "df_no_golden.which_category_best_fits_this_text__gold.value_counts()"
   ]
  },
  {
   "cell_type": "code",
   "execution_count": 8,
   "metadata": {},
   "outputs": [
    {
     "data": {
      "text/plain": [
       "text_includes_future_product_release            18840\n",
       "text_doesnt_include_a_future_product_release    11154\n",
       "not_sure                                            6\n",
       "Name: which_category_best_fits_this_text_, dtype: int64"
      ]
     },
     "execution_count": 8,
     "metadata": {},
     "output_type": "execute_result"
    }
   ],
   "source": [
    "df_no_golden.which_category_best_fits_this_text_.value_counts()"
   ]
  },
  {
   "cell_type": "code",
   "execution_count": 9,
   "metadata": {},
   "outputs": [],
   "source": [
    "df_no_goldenAndNoSure = df_no_golden[df_no_golden.which_category_best_fits_this_text_ != \"not_sure\"]"
   ]
  },
  {
   "cell_type": "code",
   "execution_count": 10,
   "metadata": {},
   "outputs": [
    {
     "data": {
      "text/plain": [
       "(29994, 9)"
      ]
     },
     "execution_count": 10,
     "metadata": {},
     "output_type": "execute_result"
    }
   ],
   "source": [
    "df_no_goldenAndNoSure.shape"
   ]
  },
  {
   "cell_type": "code",
   "execution_count": 11,
   "metadata": {},
   "outputs": [
    {
     "data": {
      "text/plain": [
       "text_includes_future_product_release            18840\n",
       "text_doesnt_include_a_future_product_release    11154\n",
       "Name: which_category_best_fits_this_text_, dtype: int64"
      ]
     },
     "execution_count": 11,
     "metadata": {},
     "output_type": "execute_result"
    }
   ],
   "source": [
    "df_no_goldenAndNoSure.which_category_best_fits_this_text_.value_counts()"
   ]
  },
  {
   "cell_type": "code",
   "execution_count": 12,
   "metadata": {},
   "outputs": [
    {
     "data": {
      "text/plain": [
       "text_includes_future_product_release            0.628126\n",
       "text_doesnt_include_a_future_product_release    0.371874\n",
       "Name: which_category_best_fits_this_text_, dtype: float64"
      ]
     },
     "execution_count": 12,
     "metadata": {},
     "output_type": "execute_result"
    }
   ],
   "source": [
    "df_no_goldenAndNoSure.which_category_best_fits_this_text_.value_counts(normalize=True)"
   ]
  },
  {
   "cell_type": "code",
   "execution_count": 35,
   "metadata": {},
   "outputs": [
    {
     "data": {
      "text/plain": [
       "count    29994.000000\n",
       "mean         4.719611\n",
       "std          0.958616\n",
       "min          4.000000\n",
       "25%          4.000000\n",
       "50%          4.000000\n",
       "75%          6.000000\n",
       "max          6.000000\n",
       "Name: _trusted_judgments, dtype: float64"
      ]
     },
     "execution_count": 35,
     "metadata": {},
     "output_type": "execute_result"
    }
   ],
   "source": [
    "df_no_goldenAndNoSure._trusted_judgments.describe()"
   ]
  },
  {
   "cell_type": "code",
   "execution_count": 13,
   "metadata": {},
   "outputs": [
    {
     "data": {
      "text/plain": [
       "4    19165\n",
       "6    10755\n",
       "5       74\n",
       "Name: _trusted_judgments, dtype: int64"
      ]
     },
     "execution_count": 13,
     "metadata": {},
     "output_type": "execute_result"
    }
   ],
   "source": [
    "df_no_goldenAndNoSure._trusted_judgments.value_counts()"
   ]
  },
  {
   "cell_type": "code",
   "execution_count": 15,
   "metadata": {},
   "outputs": [
    {
     "data": {
      "text/plain": [
       "1.0000    4688\n",
       "0.7500    3137\n",
       "0.7465    2060\n",
       "0.7429    1583\n",
       "0.5000    1073\n",
       "          ... \n",
       "0.7566       1\n",
       "0.7720       1\n",
       "0.5031       1\n",
       "0.4700       1\n",
       "0.5130       1\n",
       "Name: which_category_best_fits_this_text_:confidence, Length: 1037, dtype: int64"
      ]
     },
     "execution_count": 15,
     "metadata": {},
     "output_type": "execute_result"
    }
   ],
   "source": [
    "df_no_goldenAndNoSure['which_category_best_fits_this_text_:confidence'].value_counts()"
   ]
  },
  {
   "cell_type": "code",
   "execution_count": 16,
   "metadata": {},
   "outputs": [
    {
     "data": {
      "text/plain": [
       "count    29994.000000\n",
       "mean         0.730433\n",
       "std          0.146546\n",
       "min          0.333300\n",
       "25%          0.663600\n",
       "50%          0.742900\n",
       "75%          0.758450\n",
       "max          1.000000\n",
       "Name: which_category_best_fits_this_text_:confidence, dtype: float64"
      ]
     },
     "execution_count": 16,
     "metadata": {},
     "output_type": "execute_result"
    }
   ],
   "source": [
    "df_no_goldenAndNoSure['which_category_best_fits_this_text_:confidence'].describe()"
   ]
  },
  {
   "cell_type": "code",
   "execution_count": 17,
   "metadata": {},
   "outputs": [
    {
     "data": {
      "text/plain": [
       "Index(['_unit_id', '_golden', '_unit_state', '_trusted_judgments',\n",
       "       '_last_judgment_at', 'which_category_best_fits_this_text_',\n",
       "       'which_category_best_fits_this_text_:confidence', 'text',\n",
       "       'which_category_best_fits_this_text__gold'],\n",
       "      dtype='object')"
      ]
     },
     "execution_count": 17,
     "metadata": {},
     "output_type": "execute_result"
    }
   ],
   "source": [
    "df_no_goldenAndNoSure.columns"
   ]
  },
  {
   "cell_type": "code",
   "execution_count": 18,
   "metadata": {},
   "outputs": [
    {
     "data": {
      "text/plain": [
       "(29994, 4)"
      ]
     },
     "execution_count": 18,
     "metadata": {},
     "output_type": "execute_result"
    }
   ],
   "source": [
    "cols_keep = ['_trusted_judgments',\n",
    "             'which_category_best_fits_this_text_',\n",
    "             'which_category_best_fits_this_text_:confidence',\n",
    "             'text']\n",
    "df_final = df_no_goldenAndNoSure[cols_keep].copy()\n",
    "df_final.shape"
   ]
  },
  {
   "cell_type": "code",
   "execution_count": 19,
   "metadata": {},
   "outputs": [
    {
     "data": {
      "text/plain": [
       "Index(['_trusted_judgments', 'which_category_best_fits_this_text_',\n",
       "       'which_category_best_fits_this_text_:confidence', 'text'],\n",
       "      dtype='object')"
      ]
     },
     "execution_count": 19,
     "metadata": {},
     "output_type": "execute_result"
    }
   ],
   "source": [
    "df_final.columns"
   ]
  },
  {
   "cell_type": "code",
   "execution_count": 20,
   "metadata": {},
   "outputs": [],
   "source": [
    "df_final.columns = ['judgments', 'label', 'confidence', 'text']"
   ]
  },
  {
   "cell_type": "code",
   "execution_count": 21,
   "metadata": {},
   "outputs": [
    {
     "data": {
      "text/html": [
       "<div>\n",
       "<style scoped>\n",
       "    .dataframe tbody tr th:only-of-type {\n",
       "        vertical-align: middle;\n",
       "    }\n",
       "\n",
       "    .dataframe tbody tr th {\n",
       "        vertical-align: top;\n",
       "    }\n",
       "\n",
       "    .dataframe thead th {\n",
       "        text-align: right;\n",
       "    }\n",
       "</style>\n",
       "<table border=\"1\" class=\"dataframe\">\n",
       "  <thead>\n",
       "    <tr style=\"text-align: right;\">\n",
       "      <th></th>\n",
       "      <th>judgments</th>\n",
       "      <th>label</th>\n",
       "      <th>confidence</th>\n",
       "      <th>text</th>\n",
       "    </tr>\n",
       "  </thead>\n",
       "  <tbody>\n",
       "    <tr>\n",
       "      <th>0</th>\n",
       "      <td>4</td>\n",
       "      <td>text_includes_future_product_release</td>\n",
       "      <td>1.0000</td>\n",
       "      <td>after announcing its flagship huawei p30 pro a...</td>\n",
       "    </tr>\n",
       "    <tr>\n",
       "      <th>1</th>\n",
       "      <td>4</td>\n",
       "      <td>text_doesnt_include_a_future_product_release</td>\n",
       "      <td>1.0000</td>\n",
       "      <td>the showtime series is slated to be released i...</td>\n",
       "    </tr>\n",
       "    <tr>\n",
       "      <th>2</th>\n",
       "      <td>4</td>\n",
       "      <td>text_doesnt_include_a_future_product_release</td>\n",
       "      <td>0.7500</td>\n",
       "      <td>the accident investigation bureau ( aib ) has ...</td>\n",
       "    </tr>\n",
       "    <tr>\n",
       "      <th>3</th>\n",
       "      <td>4</td>\n",
       "      <td>text_includes_future_product_release</td>\n",
       "      <td>1.0000</td>\n",
       "      <td>next year the entire family will be able to jo...</td>\n",
       "    </tr>\n",
       "    <tr>\n",
       "      <th>4</th>\n",
       "      <td>4</td>\n",
       "      <td>text_includes_future_product_release</td>\n",
       "      <td>0.7707</td>\n",
       "      <td>los angeles, cal. / january 18, 2019 – the los...</td>\n",
       "    </tr>\n",
       "  </tbody>\n",
       "</table>\n",
       "</div>"
      ],
      "text/plain": [
       "   judgments                                         label  confidence  \\\n",
       "0          4          text_includes_future_product_release      1.0000   \n",
       "1          4  text_doesnt_include_a_future_product_release      1.0000   \n",
       "2          4  text_doesnt_include_a_future_product_release      0.7500   \n",
       "3          4          text_includes_future_product_release      1.0000   \n",
       "4          4          text_includes_future_product_release      0.7707   \n",
       "\n",
       "                                                text  \n",
       "0  after announcing its flagship huawei p30 pro a...  \n",
       "1  the showtime series is slated to be released i...  \n",
       "2  the accident investigation bureau ( aib ) has ...  \n",
       "3  next year the entire family will be able to jo...  \n",
       "4  los angeles, cal. / january 18, 2019 – the los...  "
      ]
     },
     "execution_count": 21,
     "metadata": {},
     "output_type": "execute_result"
    }
   ],
   "source": [
    "df_final.head()"
   ]
  },
  {
   "cell_type": "code",
   "execution_count": 36,
   "metadata": {},
   "outputs": [],
   "source": [
    "text_len = pd.Series([len(i) for i in df_final.text])"
   ]
  },
  {
   "cell_type": "code",
   "execution_count": 38,
   "metadata": {},
   "outputs": [
    {
     "data": {
      "text/plain": [
       "1431"
      ]
     },
     "execution_count": 38,
     "metadata": {},
     "output_type": "execute_result"
    }
   ],
   "source": [
    "text_len.iloc[0]"
   ]
  },
  {
   "cell_type": "code",
   "execution_count": 39,
   "metadata": {},
   "outputs": [],
   "source": [
    "text_tokens = pd.Series([len(i.split()) for i in df_final.text])"
   ]
  },
  {
   "cell_type": "code",
   "execution_count": 40,
   "metadata": {},
   "outputs": [
    {
     "data": {
      "text/plain": [
       "count    29994.000000\n",
       "mean       244.583017\n",
       "std        119.859484\n",
       "min         15.000000\n",
       "25%        147.000000\n",
       "50%        236.000000\n",
       "75%        335.000000\n",
       "max        646.000000\n",
       "dtype: float64"
      ]
     },
     "execution_count": 40,
     "metadata": {},
     "output_type": "execute_result"
    }
   ],
   "source": [
    "text_tokens.describe()"
   ]
  },
  {
   "cell_type": "code",
   "execution_count": 37,
   "metadata": {},
   "outputs": [
    {
     "data": {
      "text/plain": [
       "count    29994.000000\n",
       "mean      1469.806961\n",
       "std        721.606628\n",
       "min         95.000000\n",
       "25%        883.250000\n",
       "50%       1412.000000\n",
       "75%       2013.000000\n",
       "max       2995.000000\n",
       "dtype: float64"
      ]
     },
     "execution_count": 37,
     "metadata": {},
     "output_type": "execute_result"
    }
   ],
   "source": [
    "text_len.describe()"
   ]
  },
  {
   "cell_type": "code",
   "execution_count": 26,
   "metadata": {},
   "outputs": [
    {
     "data": {
      "text/plain": [
       "0                                                                                                                                                                                                                                                                                                                                                                                                                                                                                                                                                                                                                                                                                                                                                                                                                                                                                                                                                                                                                                                                                                                                                                                                                                                                                                                                                                                                                                                                                              after announcing its flagship huawei p30 pro and huawei p30 in paris last month, the chinese smartphone manufacturer will now be debuting the smartphones in india today. huawei is hosting an event in new delhi today that will kick off at 12 pm, where it is expected to launch the huawei p30 lite and huawei p30 pro in the market.the event will be live-streamed on huawei’s official youtube channel (the video is embedded below). in case you have a busy day at work but you still want to watch the event live, you can set a reminder on the video below, so you will be notified a few minutes before the live blog starts.in europe, the huawei p30 pro was announced at €999 (rs. 78,000 approximately) for the base 128 gb storage version, €1,099 (rs 86,000 approximately) for the 256 gb model, whereas €1,249 (rs 98,000 approximately) for the highest 512 gb variant. the india prices will be announced today at the event.the huawei p30 pro features a modern design with thin side bezels, a reduced chin, and smooth curved edges. from the front, the p30 looks quite similar to samsung’s galaxy s9 series, except it has thin bezels on the top and at the bottom. the phone has a 6.47-inch oled display with a resolution of 2,340 x 1,080 pixels.at today’s launch event, huawei is also expected to bring the huawei p30 lite to india. the smartphone was first unveiled in canada at a price of cad429.95, which roughly translates to rs 22,180.\n",
       "1                                                                                                                                                                                                                                                                                                                                                                                                                                                                                                                                                                                                                                                                                                                                                                                                                                                                                                                                                                                                                                                                                                                                                                                                                                                                                                                                                                                                                                                                                                                                                                            the showtime series is slated to be released in 2019.things are moving forward for a new boston-based showtime series from matt damon and ben affleck.“city on a hill,” a fictional drama centered around cops and criminals in early ’90s boston, will begin filming in february in new york and boston and will premiere later in 2019, according to a press release from the premium cable network.the show will star kevin bacon as a “corrupt but venerated” veteran fbi agent who forms an alliance with a newly appointed assistant district attorney (aldis hodge) to take on a family of armored car robbers from charlestown. affleck and damon will executive produce the show through their company pearl street films.on monday, showtime announced that actress sarah shahi will have a recurring guest-starring role as rachel behnam, a “street-smart investigator for the suffolk county district attorney’s office.” previously announced cast members include jonathan tucker (“kingdom”), mark o’brien (“halt and catch fire”), jill hennessy (“crossing jordan”), lauren e. banks (“instinct”), amanda clayton (“tyler perry’s if loving you is wrong”), kevin chapman (“brotherhood”), jere shea (“passion”), and kevin dunn (“veep”) in a recurring role.producers filmed a pilot for “city on a hill” in late 2017, and the show was picked up to series by showtime in may 2018.\n",
       "2                                                                                                                                                                                                                                                                                                                                                                                                                                                                                                                                                                                                                                                                                                                                                                                                                                                                                                                                                                                                                                                                                                                                                                                                                                                                                                                                                                                                                                                                                                                                                                                                                                                          the accident investigation bureau ( aib ) has released the preliminary report of the helicopter crash involving agusta westland w 139 caverton helicopters which flew vice president to kabba in kogi state on february 2nd.speaking at a briefing at its headquarters at the murtala muhammed international airport, lagos today wednesday february 13th, aib commissioner and chief executive officer, akin olateru, said preliminary report shows the helicopter crash was atrributed to the effects of a blown out generator during its landing in a dry dusty environment. the report said caverton should have carried out risk assessment test at the kaaba stadium before the flight.olateru said though the investigation into the crash is ongoing, it has however issued two safety recommendations to the nigerian civil aviation authority (ncaa) and the operator : caverton helicopters limited. he added that the ncaa should issue advisory circular to helicopter operators on the effects of brown out and how to mitigate its effects. the second safety recommendation, olateru said is for caverton helicopters to carry out proper risk analysis and assessment before operating flights into unapproved landing pad.olateru said the final report on the accident will be released in a few months.\n",
       "3                                                                                                                                                                                                                                                                                                                                                                                                                                                                                                                                                                                                                                                                                                                                                                                                                                                                                                                                                                                                                                                                                                                                                                                                                                                                                                                                                                                                                                                                                                                                                                                                                                                                                                                                                                                                                                                                                                                                                                                                                                                                                                                                                                                                                                                                                 next year the entire family will be able to join in on the adidas yeezy boost 700 fun as the popular yeezy model is expected to release in full family sizes come 2019. this news comes from yeezy mafia who has come to be one of the most reliable sources when it comes to early adidas yeezy news.at the moment there are three colorways expected to release in 2019, the ?analog,? ?salt,? and ?inertia” pairs, all which hopefully will be available in adult, toddler, and infant sizes.are you excited about this news? keep it locked to kicks on fire more yeezy updates.the post the adidas yeezy boost 700 will release in full family sizes in 2019 appeared first on kicksonfire.com.\n",
       "4                                                                                                                                                                                                                           los angeles, cal. / january 18, 2019 – the los angeles railroad heritage foundation (larhf), founded in 2000 to preserve and present southern california’s dynamic rail transportation history, announced today that elrond lawrence has been named the foundations new executive director.lawrence, a communications professional, writer and photographer who authored the popular book route 66 railway (published by larhf), plus scores of articles for rail and roadside america publications, began transitioning to the role january 1, working with josef lesser, retiring ceo and co-founder of the 501 (c)(3) non-profit foundation based in eagle rock.\"for 19 years, larhf has worked to connect railroads, transit, and rail history with audiences across los angeles and southern california,\" said lawrence, \"and i’m thrilled to build on its mission of outreach and preservation and guide the foundation into its third decade.\"larhf hosts field trips to railroad and transit facilities, offers a boy scout merit badge program in railroad safety and careers, and maintains an extensive vintage photography archive and library for historians. the foundation operates eight history exhibits in public spaces such as philippes french dip in downtown los angeles, spaghetti factory restaurants in orange county and riverside, plus others.\"what excites me most is the opportunity to expand peoples awareness of las railroad heritage and to collaborate with the southern california preservation community,\" lawrence added. “trains and rail transit are fascinating, colorful, fun, and they link the southland to its rich history. in addition to our continuing programs we’re planning an online hub that will celebrate socal railroads, their exciting future, and the people who preserve rail equipment and stations for future generations.\"larhf also announced the publication of its next book, hollywood trains and streetcars, co-authored by lesser and los angeles historian marc wanamaker, to be released in fall 2019.visit the foundation’s facebook, instagram and twitter pages for news and updates, or email info@larhf.org. for membership information visit the foundation’s website, www.larhf.org, which will be modernized and expanded in 2019. offices are located at 825 colorado blvd., suite 242, in los angeles (eagle rock), and its resources are available to media and historians. email or call 626-458-4449 for more information.elrond lawrence grew up in fontana, cal., living in the inland empire with his wife laura before moving to the central coast. he’s an award-winning author and photographer whose work appears in trains magazine and other publications.\n",
       "5     articles featuring the new book!short literature pro market 2019 has been featured on several websites and i would like to share those with you. i also wrote a guest article on rachel poli’s website that i’ll link to below, titled 15 tips to get your short story or article published. trust me, it will provide insight!it’s time for the second sales update! i published my first blog post on february 9th, so it’s only been about three weeks, but a few things have gone on since then.echo 1 is free for today and tomorrow! echo 2, 3, and 4 are $0.99 for four more days!short literature pro market ’19 is out!the newest edition in the pro market brand is out and available for purchase this weekend. this new version has even more publishers inside, with the same great detail as the last one. this time you get over 170 profession paying publishers. something else that’s different about the 2019 edition is that it has been widened to include other types of publishers besides just short stories. it also includes freelance publishers, nonfiction, article segments and more. you can find short literature pro market 2019 available as an ebook or paperback the current price for the ebook is only $3.99 (normally $6.99) and the sale price for the paperback is $9.99 (normally $13.99). so, it’s a good time to save money too! but act soon because these prices will only be available through the end of february.grab your copy on sale here.thanks for check out my blog!this is the first installment/update effort in tracking my sales and marketing efforts for short literature pro market 2019. as stated in a previous post, i am going to attempt to update my blog semi-regularly with this information. this book is independently published and the only marketing budget is what comes out of my pocket. there is no publishing house budget.pre-order the lost years by stacey ritz, published by rockville publishing. the release date is march 1st!i decided i’m going to run a blog series where i document the sales and marketing efforts of my recent works as an independent & self-published author. many people who have never seen behind the curtain of self-publishing often don’t understand the difficulties of marketing and financing your own books. it is a struggle that is very real and can be very expensive. there are plenty of independently published books that are of the same quality as traditionally published books – but there aren’t usually the same kind of connections and backing to push those books to success.so, i’m going to share my efforts on my blog every few weeks. what works, what clearly doesn’t. what i’ve tried so far and what i want to try. also, i will try to stay transparent with the sales numbers and what has been invested. the first book i’m going to track is my newest book currently out for pre-order, short literature pro market 2019.\n",
       "6                                                                                                                                                                                                                                                                                                                                                                                                                                    byton is looking to redefine the suv with its new “intelligent” electric vehicle. days ahead of its full reveal at ces 2018, the startup has released more teases of the product in a press release. the manufacturers have a goal to make it as innovative as the smartphone evolution, and it plans to utilize artificial intelligence for customized experiences and self-driving technology.since last september, byton has been releasing concept photos and videos of the new debut vehicle, which they hail as a “smart intuitive vehicle.” the officially announced that the first driveable concept car would be shown at ces 2018 in las vegas next week. production is expected to begin in 2019 with the suv launch later in the year.the byton brand name comes from the phrase “bytes on wheels,” which gives the sense that they will try to adapt as much technology as possible into these new evs. like other manufacturers, they want to make it as innovative as our smartphones. easily the most interesting aspect of the car is the massive interactive dashboard.known as the shared experience display (sed), this ui measures at around four feet wide and nine inches tall. this can be controlled by the driver with a touch wheel or it can be accessed by passengers. expected functions include hand tracking, face recognition, and emotion recognition to enhance the drive and make each experience unique.with many similarities to a smartphone, it’s not surprising to note that drivers will be able to link their own device to the byton suv. this would be a useful feature to operate the phone in a safer way during the drive. personalized settings in the vehicle would be saved into the cloud, and with face recognition, any byton vehicle you step into would be tailored to your needs.byton has launched multiple headquarters over the world, the north american one opening up recently in santa clara, california. this location will focus on research and development, software design, and autonomous driving. as autonomy evolves, they’ll be upgrading their vehicles to support it all the way to full automation.two versions of the suv will offer different ranges: one that reaches approximately 217 miles and the other up to 310 miles. a sedan and multi-purpose vehicle that’s created on the same platform will be released in 2021 and 2022, respectively. those interested in viewing the ces event can see it on their homepage at 3:00 pm pacific time on january 7th.\n",
       "7                                                                                                                                                                                                                                                                                                                                                                                                                                                                                                                                                                                                                                                                                                                                                                                                                                                                                                                                                                                                                                                                                                                                                                                                                                                                                                                                                                                                                                                                                              delightful to help my own blog, in this particular moment we’ll demonstrate in relation to 2019 bentley bentayga release date. and from now on, this is the very first graphic.explore 2019 bentley bentayga release date performance and technology features, see models and cost, as. well, as galleries and videos. we review the 2019 bentley bentayga release date where consumers able find detailed news on specs, full economy, transmission, and safety.explore the design, performance and technology features of the 2019 bentley bentayga release date. look models and cost, as well as photos and videos. the 2019 bentley bentayga release date goes to excess the right kinds of excess – to preserve its best of status. find out if the new this kind of hyperlink coupe takes a step forwards in our first drive review. see images and get the story at auto car design.thanks for visiting my blog, article above(2019 bentley bentayga release date) published by carsuvtruck at may, 28 2018.reviews, videos latest news specs and, road tests on the 2019 bentley bentayga release date. top gear reviews the 2019 bentley bentayga release date. terrific refinement, class leading technology, and incredible interior quality want to know more?, read more.why not consider graphic preceding? will be of which remarkable???. if you feel and so, i’l m demonstrate several graphic yet again down below.related post \"2019 bentley bentayga release date\"\n",
       "8                                                                                                                                                                                                                                                                                                                                                                                                                                                                                                                                                                                                                                                                                                                                                                                                                                                                                                                                                                                                                                                                                                                                                                                                                                                                                                                                                                                                                                                                                                                                                                                                                                                                                                                                                                                                                                                                                                                                                                                                                                                                                                                                                                         as part of the dj combo “moscow chiks“, russian youlya played countless gigs and toured around the world since 2012. however, youlya increasingly realized that the “commercial side” of the dance scene should not be her future, and then decided to leave “moscow chiks” and focus on leftfield-oriented music for a solo career in the club scene. she also started producing, looking for her own sound between electronic, techno, and jungle rhythms pervaded by layers of multi-layered percussion loops.their first release “looking back” will be released on [feis] worldwide on 25.01.2019, but is already available for pre-sale. we are very excited about what awaits us in the future from youlya! even her first first publication shows that musically new exciting paths are being taken.\n",
       "9                                                                                                                                                                                                                                                                                                                                                                                                                                                                                                                                                                                                                                                                                                                                                                                                                                                                                                                         are you still trying to decide whether to take the phr/sphr exam and be certified? let me help you with your decision…..phr/sphr certification is a great way to establish yourself in the hr field. it proves your mastery of hr operations, best practices and regulations in the u.s., and creates a solid foundation for your future advancement. it provides you an opportunity to demonstrate relevance, competence, experience, credibility and dedication to human resources to your employers, clients, staff members and professional peers.to pass the certification exam, you need to prepare well and study hard. but you don’t need to do it alone. join us this spring, as we help you prepare for the phr or sphr exam that you’ve wanted to obtain.so what are you waiting for? join us from 6:00pm-9:30pm beginning thursday, march 7th, as we help you prepare for the phr or sphr exam.required material: the hrci professional in human resources certification study guide, 4th edition, 2012 by sandra reed and anne bogardus is currently unavailable for purchase on amazon and barnes and noble online. the 5th edition will be released in late march.please continue your registration. notes and slide deck materials will be made available to all participants beginning thursday, march 7, 2019.curriculum: each session reviews the 6 functional areas within the body of knowledge: business management and strategy, workforce planning and employment, hr development, compensation and benefits, employee and labor relations, and risk management. each class is presented by hr professionals who have more than 15 years’ experience in human resources and are an expert on the subject they present. this program is structured to assist each participant with being successful in passing the testing for certification. each week the instructors review and discuss the subject matter content and previously used test questions.for more information, contact celeste pageau, phr, at cpageau2218@gmail.com.\n",
       "10                                                                                                                                                                                                                                                                                                                                                                                                                                                                                                                                                                                                                                                                                                                                                                                                                                                                                                                                                                                                                                                                                                                                                                                                                                                                                                                                                                                                                                                                                                                                                                                                                                                                                                                                                                                                                                                                                                                                                                                                                                                                                                                                                                                                                                   if like me you were looking forward to playing the new quantic dream games previously exclusive to the playstation platform, but soon to be available on the pc. you’ll be pleased to know that its developers have released both minimum and recommended pc specifications to play and enjoy the pc version of detroit become human. check out the original playstation trailer below to learn more about what you can expect from the storyline as you play in android trying to fit into a human world.unfortunately no confirmed release date has been published by epic games for the release of the highly anticipated quantic dream games on pc, but as soon as more information becomes available we will keep you up to speed as always.\n",
       "11                                                                                                                                                                                                                                                                                                                                                                                                                                                                                                                                                                                                                                                            the sixth volume of card captor sakura ~clear card arc~ debutted at the 9th (regular edition) and 29th (special edition) positions in oricon’s weekly ranking, with an estimate of 135,037 copies sold combined in its first week of sales.the regular edition sold an estimate of 109,496 copies, while the special edition (with the tokyo exhibition audio cd guide) sold an estimate of 25,541 copies. both editions sold together an estimate of 135,037 copies.this is the first time since volume 3 that the special edition appeared in oricon’s weekly ranking. for volumes 4 and 5, only the regular edition made it to the ranking.these numbers represent the 4th best selling first week for a clear card volume, only behind volumes 1, 3 and 5 respectively. on the downside, they are slightly smaller than the first week of volume 5 regular edition alone (141,578 copies).therefore, volume 6 special edition had the second best first week sales, only behind volume 3 (oad).it’s a rather good, consistent first week sales for volume 6. it’s not very good that it’s still lower than the first week of volume 5’s regular edition alone. however, the release date was april 3rd so it didn’t get a full week of sales exposure.it will likely probably reappear in rankings for the next few weeks. stay tuned!i hope volume 6 will keep doing well and that we shall see it in the rankings for as long as possible!yeah, it was a good first week 🙂 let’s hope it stays this way for the following weeks, too!thanks for sharing, the diagram needs improvement though. there are missing a lot of numbers for week 1 and 2. i guess the reason for this is, that the bar charts are so slim and big numbers didn’t fit in it.also: does the diagram now include the total selling numbers for special edition and regular edition of all volumes or only for certain volumes?hi there! i did not build the graphic myself. i am using a service called infogram and the service has some limitations as you pointed out. i can’t adjust the graphic as you said but if you click on the image, it will take you to the website where you can see the full numbers.only for volumes 1, 3 and 6 and only for week 1. the other volumes or weeks didn’t sell enough to appear on the ranking.\n",
       "12                                                                                                                                                                                                                                                                                                                                                                                                                                                                                                                                                                                                                                                                                                                                                                                                                                                                                                                                                                                                                                                                                                                                                                                                                                                                                            the enchanting image below, is segment of 2019 kawasaki kx450f review report which is listed within review, 2019 kawasaki kx450f price, 2019 kawasaki kx450f for sale, 2019 kawasaki kx450f spy photos and posted at september 23rd, 2018 17:47:06 pm by admin.new has released information about its 2019 kawasaki kx450f, which is all-new from the ground up. the 2019 kawasaki kx450f has been a popular motorcycle since it was dramatically overhauled in 2014. 2019 kawasaki kx450f motocross motorcycle photo gallery, video, specs, features, offers, inventory and more.ast month the revealed the all-new 2019 kawasaki kx450f motocrosser, this month we get to ride it. check out our first impression. last year its big brother received a major update, so now the 2019 kawasaki kx450f takes its turn. first impression test ride of the 2019 kawasaki kx450f, which features an all-new engine with electric starter and a redesigned aluminum frame.2019 kawasaki kx450f, race, winpowerful and reliable, and now with push-botton electric start and the yamaha power tuner smartphone app. with an all-new engine, new frame, new bodywork, electric start, power tuner app and more, the 2019 kawasaki kx450f is ready to roost the competition. the official product page of the 2019 kawasaki kx450f. the page contains the technical specs, media for download and an overview of related accessories.here is fundamental knowledge on 2019 kawasaki kx450f. we have the excellent substance for 2019 kawasaki kx450f. check it out for yourself! you can find 2019 kawasaki kx450f release date guide and view the latest 2019 kawasaki kx450f review in here.\n",
       "13                                                                                                                                                                                                                                                                                                                                                                                                                                                                                                                                                                                                                                                                                                                                                                                                                                                                                                                                                                                                                                                                                                                                                                                                                                                                                                                                                                                                                                                                                                                                                                                                                                                                                                                                                                                                                                                                                                                                                                                                                                                                                                                                                                                                                                                                                                                                                                                                                                                                                                                                                                                   omega labyrinth is a role-playing game, developed by matrix software and published by d3publisher, which was released in japan in 2015.omega labyrinth z is a role-playing game, developed by matrix software and published by d3publisher, which was released in japan in 2017.omega labyrinth life is a role-playing game, published by d3publisher, scheduled to be released in japan in 2019.\n",
       "14                                                                                                                                                                                                                                                                                                                                                                                                                                                                                                                                                                                                                                                                                                                                                                                                                                                                                                                                                                                       were nearly certainly going to get android q arriving with the pixel 4, ready to take advantage of that dual-sim functionality. never mind the fact that esim support is very limited in the usa and the rest of the world, the pixels dual sim mode is one that goes back to the early 2000s.xda developers recently noticed a new commit to aosps source code, revealing some interesting details about the pixel 4. crucially, the commit says it can do this \"even if [the device has] two or more sim cards\". there is also dsda or dual sim, dual active, which requires two different radios and allows the sims to be used simultaneously - but the smartphone industry mostly uses dsds for dual sim support on handsets. the pixel 2 and 3 support dsss, meaning that while two sims can be provisioned to two networks inside the phone, only the active sim can receive calls and texts.googles pixel devices have always been the talk of the town, and before there is any official information on the upcoming pixel 4, we know that it is going to be released in the last quarter of this year along with its siblings. so, the minute that you switch over to the esim, youre no longer able to make or receive phone calls from the number assigned to the physical sim in your smartphone. most android phones that support multiple sim cards, as well as the iphone xs and xs max, use dsds. you get to save $450 when you buy two pixel 3 xl phones, $400 when you buy a pixel 3 xl and a pixel 3, and $350 when you buy two pixel 3 phones. specifically, the comment cites the implementation as necessary to differentiate the 2018 and 2019 pixel - in other words, the pixel 3 and pixel 4. what is likely, however, is that when the improved dual sim feature is made available, it will be present on the next android q os update, along with the new google pixel. when used alongside a hardware sim, the pixel 3 will work in dual-sim mode, but not well.\n",
       "15                                                                                                                                                                                                                                                                                                                                                                                                                                                                                                                                                                                                                                                                                                                                                                                                                                                                                                                                                                                                                                                                                                                                                                                                                                                                                                                                                                                                                                                                                                                                                                                                                                                                                                                                                                                                                                                                                                                                                         a plague tale: innocence|new images | all the playstation youll ever need.new images have been released for a plague tale: innocence by asobo studio and they are stunning. the game is set to release in 2019 on playstation 4, xbox one and pc. the story follows amicia and hugo de rune as they try and survive a time that is plagued by the black death. if you have seen any of the gameplay videos or trailers then you know this one isn’t going to be for those with a weak stomach. the setting is medieval france so we will certainly get a fair share of old villages and castles accompanied by death. i am intrigued to see why the two are being chased in the game and what lengths they will have to go to in order to stay alive. check out some of those amazing screenshots below along with additional images for your pleasure and then watch the gameplay trailer if you dare.pingback: a plague tale: innocence – announces release date and new webseries | all the playstation youll ever need.\n",
       "16                                                                                                                                                                                                                                                                                                                                                                                                                                                                                                                                                                                                                                                                                                                                                                                                                                                                                                                                                                                                                                                                                                                                                                                                                                                                                                                                                                                                                                                                                                                                                                                                                                                                                                                                                                                                                                                                                                                                                                                                                                                                                                                                                                                                                                                                                                                                                                                                                                                                                                                                                                                                                                                                                                                                                              htc puccini will be lte device which i am sure will be released by csl. they told me that in july a tablet and phone will release with lte service.gmt+8, 2019-4-24 12:35, processed in 0.059932 second(s), 3 queries.\n",
       "17                                                                                                                                                                                                                                                                                                                                                                                                                     today is release day for seeking his love, and i’m excited to tell you about this heartwarming, contemporary romance. it’s the first of three books in the bayside treasures series. each story is set in beautiful fairhaven, washington, and is prefect for readers who enjoy books by denise hunter and becky wade. you’ll also meet a fun group of matchmaking, senior-age friends who are intent on helping their younger friends and family members find lasting love. you can look forward to reading a man to trust this summer, and snowflake sweethearts in the fall. that’s right, all three novels will release in 2019!click over to my website to learn more about seeking his love and read the first chapter. i also have a link to my pinterest board with photos of the characters and setting to help you visualize the story. seeking his love was originally published in 2010 and has been revised and updated for new readers to enjoy. it’s available as an ebook for only $2.99 and in paperback for $10.95. i hope you’ll order your copy!join me on friday, february 15th, 8:00pm eastern for a fun facebook live launch party. i’ll share behind the scene info about the book, and there will be some fun games and giveaways! the party will take place on my facebook author page. rsvp to receive a reminder the day of the party.i’m celebrating the launch of seeking his love with a cozy winter’s evening giveaway, which includes: a pretty plush throw, a box of earl grey tea with lavender (my favorite), a 20 oz. yeti tumbler to keep your tea warm, and some delicious chocolates.this giveaway is open february 12 – 17. a us winner will receive the gifts pictured above. if an international winner is chosen, she will receive a $50 amazon gift card instead. fill out the raffelcopter form below to enter the giveaway!seeking his love is available in paperback and ebook versions through amazon. if you enjoy the story i hope you’ll post your review online and share your thoughts with me and on social media. thanks very much!hi friends, happy new year! here are some of the new novels releasing this month from american christian fiction writer members. i hope you’ll take a look and find one or more to enjoy!hi friends, i hope you’ll find some new novels to enjoy this month! these are all from american christian fiction writer members.hi friends, as the weather cools i hope you’ll find time to enjoy some of these new novels from american christian fiction writer members!\n",
       "18                                                                                                                                                                                                                                                                                                                                                                                                                                                                                                                                                                                                                                                                                                                                                                                                                                                                                                                                                                                                                                                                                                                                                                                                                                                                                                                                                                                                                                                                                                                                                                                                                                                                                                                                                                                                                                                                                                                                                                                                                                                                                                                                                                                                                                                   corporates use cobase to manage their bank accounts at many different banks.currently the platform provides bank connectivity with potentially almost every bank in the world.available are a payment hub with configurable payment formats, powerful account reporting with balance and transaction information, and a flexible user administration. alerts can be sent via email or sms. transaction screening is implemented to assure compliance and as part of integral risk management.on our product roadmap we have planned more modules. we’re working on the robo assistant and modules for netting, intercompany loan administration and liquidity forecasting. these will be released in the course of 2019 and 2020.\n",
       "19                                                                                                                                                                                                                                                                                                                                                                                                                                                                                                                                                                                                                                                                                                                                                                                                                                                                                                                                                                                                                                                                                                                                                                                                                                                                                                                                                                                                                                                                                                                                                                                                   following a tease back in november, ancient games has offically announced susume!! mamotte knight: hime no totsugeki serenade for switch. it will launch in 2019 in japan.susume!! mamotte knight: hime no totsugeki serenade is an offline and online multiplayer-supported game where players control the “mamotte knight” to protect the princess from incoming enemies. a new element has also been added where the castle moves along a track, and when the castle arrives at track checkpoints, a large wave of enemies and bosses attack. when you arrive at the enemy’s castle waiting at the end of the track, you must ram the enemy’s castle with your own castle to destroy it and clear the game.players choose three characters from eight types of mamotte knights, such as archer, fighter, and amazon, and fight on an always-changing battlefield. while you can be revived if you take damage and die, the game will be over if the princess is attacked and her hp lowers to zero.players can set barricades to protect the princess, or have the castle take damage while the princess stays in the castle. however, if the castle takes too much damage, it will be in the down state for a fixed period of time, leaving you and the princess defenseless. to clear the game, you must repel enemies while skillfully restoring barricades and the castle.\n",
       "20                                                                                                                                                                                                                                                                                                                                                                                                                                                                                                                                                                                                                                                                                                                                                                                                                                                                                                                                                                                                                                                                                                                                                                                                                                                                                                                                                                                                                                                                                                                                                                                                                                                                                                                                                                                                                                                                                                               -kami mcbride was an absolute tech newbie. but did a 5-figure seed launch for her course “handcrafted healing herbal oils”. here you’ll find an interview, case study walkthrough, and swipfile of kami’s seed launch.this was one of the most fun and productive sessions. and by just going through the replay and transcript, you’ll leave with at least a dozen new ideas for super effective lead magnets for your own business.please feel free to post your get jeff walker – product launch formula 2019download, free download, tutorials,training,courses, review, wso, torrent, nfo,4shared, amazon drive, amazon s3, blackhat, box.com, copy.com, dailyuploads, depositfiles, dropbox, google drive, icloud, idrive, jvzoo, koofr, mediafire, mega, mirrorcreator, mirrored, nextcloud, nitroflare, onedrive, opendrive, openload, pcloud, rapidgator, review, sendit sendspace, spideroak, sugarsync, sync.com, tresorit, uploadboy, uploaded, ul.to, wetransfer, wso, yandex, zippyshare, direct links, requirements or whatever-related comments here.\n",
       "21                                                                                                                                                                                                                                                                                                                                                                                                                                                                                                                                                                                                                                                                                                                                                                                                                                                                                                                                                                                                                                                                                                                                                                                                                                                                                                                                                                                                                                                                                                                                                                                                                                                                                                                                                                                                                                                                                                                                                                                                                                                                                                                                                                                                                                                                          this week, inon barnatan makes his debut with the helsinki philharmonic orchestra, performing beethoven’s piano concerto no. 3 with conductor alexander shelley. more information here.the last two seasons have seen inon perform beethoven with gewandhausorchester leipzig, new york philharmonic, and london philharmonic orchestra, in addition to recording the complete concertos with alan gilbert and the academy of st martin in the fields for decca gold (to be released in 2019/20).elsewhere, recent concerto highlights include performances with the chicago symphony, bbc symphony orchestra, and minnesota orchestra – he returns to the latter for an international tour in the summer.\n",
       "22                                                                                                                                                                                                                                                                                                                                                                                                                                                                                                                                                                                                                                                                                                                                                                                                                                                                                                                                                                                                                                                                                                                                                                                                                                                                                                                                                                                                                                                                                                                                                                    xiaomi is going for launching a new redmi flagship device where every advanced feature like triple rear camera, pop up selfie camera and an advanced processor like sd 855 is used and a red wine dipped color of the body has also been spotted. we are giving you some clues about this mysterious upcoming flagship device from xiaomi. we are anticipating it as redmi 2 pro which is slated to be released in may 2019 in china though there is no official confirmation!the sd 855 is the most advanced chip developed by the qualcomm that powers ai driven smartphone management and 5g facilities too. the centrally placed pop-up camera is one of the best features that we really like nowadays. it increases screen to body ratio and a better understanding of the screen size with more vivid experience from the viewer’s end. it’s a better design than a punch hole camera.the device having a metal body design provides exemplary built quality with proper sturdiness. the device may have a few more color options as well though there will be no gradient finishing on the back. the rear camera is expected to have 48 mp capability and the popup selfie camera may have 24 mp shooting capability. apart from these, both are expected to have 1080p full hs recording capability as it bears sd 855 at its core.let us know what do you think about this device by commenting below.\n",
       "23                                                                                                                                                                                                                                                                                                                                                                                                                                                                                                                                                                                                                                                                                                                                                                                                                                                                                                                                                                                                                                                                                                                                                                                                                                                                                                                                                                                                                                                                                                                                                                                                                                                                                                                                                                                                                                                                                                                                                                                                                                                                                                                                                                                                                                                                                                                                                                                                                                  koei tecmo has announced the north american and european release dates for the newest atelier title, atelier lulua: the scion of arland. the game will be released for pc, playstation 4, and nintendo switch in north america on may 21, 2019, with a european release to follow on may 24, 2019.atelier lulua sees the series return to the setting of arland and comes shortly after recent re-releases of the preceding trilogy of games.the game stars elmerulia “lulua” fryxel, the daughter of atelier rorona protagonist rorolina frixell.\n",
       "24                                                                                                                                                                                                                                                                                                                                                                                                                                                                                                                                                                                                                                                                                                                                                                                                                                                                                                                                                                                                                                                                                                                                                                                                                                                                                                                                                                                                                                                                                                                                                                                                                                                                                                                                                                                                                                                                                                                                                                                                                                                                                                                   the game is being worked on by massive entertainment. evaluating the feedback from players regarding the first game, massive entertainment planned to include more game content at launch and improve the endgame. the games endgame development was prioritized by massive entertainment after hearing players complaints from the first game.the game was announced on march 9, 2018, by ubisoft, with the first gameplay footage being premiered at the electronic entertainment expo 2018 in june 2018, in the expo, ubisoft confirmed that the game will be released on 15 march 2019 for microsoft windows, playstation 4 and xbox one. a beta is set to be released prior to the games launch. after the games release, three episodes of downloadable content, which add new story content and gameplay modes, will be released for all players for free.\n",
       "25                                                                                                                                                                                                                                                                                                                                                                                                                                                                                                                                                                                                                                                                                                                                                                                                                                                                                                                                                                                                                                                                                                                                                                                                                                                                                                            the anthem open demo is over and now we all sit in anticipation for its 22 february 2019 release date. after news broke this weekend that the game could have been a free-to-play title, we are interested to see how the end-game grind for anthem turns out.bioware is still putting a lot of emphasis on the social system of anthem saying that the game is “best played with friends” and the social system will make it easy for players to form friendships and play together as a team.anytime you complete an expedition (mission, contract, freeplay, stronghold) you earn experience. that experience also goes into the alliance system. even better, the experience from the other people in your group also goes into the alliance system. even better still, players on your friends list who play without you – their experience also goes into the alliance system.during the weekend, players will be then rewarded with coin (anthem’s in-game currency) according to the amount of experience they contribute to this alliance system. there are a couple of reward tiers to hit as well as a weekly xp cap. the alliance system is meant to be a feature to encourage social interaction in anthem. however, the game will also have a guild system that will go live after launch that will allow players to arrange groups of people with similar interests and play styles.with the alliance system and guilds, anthem will be a giant social experience tailored for those who love to play with friends as well as those who don’t yet have the friends list to support the game.anthem releases on 22 february 2019 for ps4, xbox one and pc.\n",
       "26                                                                                                                                                                                                                                                                                                         ubisoft rolled out more details at its e3 2018 press conference about the division 2, which is set to hit the playstation 4, xbox one, and pc next year. the shared world shooter from ubisoft massive is building off the 2016 release with the promise of a bigger game world, an upgraded end-game progression system, and the introduction of raids to test a large group of players’ ability to work together.the division 2 will move both the setting and the time of year when it releases in march 2019. the online shooter will take to the streets of washington, d.c., seven months after the virus that crippled new york city in the original game was released.the virus has been contained but the capitol of the united states and the government that runs it has been devastated. there are multiple enemy factions attempting to take control of the city and the nation. it is up to the sleeper agents of the division to defend washington, d.c., and the civilians residing there.the world of the division 2 is 20 percent larger than the original game and will feature a more diverse set of locations than the overwhelmingly urban setting of the first game. gameplay will take players from the capitol area to the k street to the surrounding suburbs and outskirts.the division saw significant changes from its original release as ubisoft massive responded to player complaints to the point where it initially delayed dlc releases. the studio appears to be building on what it learned by offering a deeper end-game experience than before through raids and a new end-game progression.eight-player raids are being introduced with the division 2. ubisoft explains these will “test the skill, communication, and teamwork of even the most expert agents.” there is no word yet on the number of raids that will be available at launch.meanwhile, players will be able to choose specializations once they reach level 30 in order to continue their progression. the sharpshooter, demolitionist, and survivalist specialization each offer their own progression path with new skill mods, talents, tools, and signature weapons.ubisoft also confirmed that a revised version of dark zone will be available at launch. however, there are no details on what the revisions include at this point.the division 2 will also continue a mix of free and paid content post-launch. ubisoft confirmed that three story-based dlc will be released during the first year. however, an optional premium pass is also being offered for exclusive add-ons. again, details of what these add-ons include are currently missing.\n",
       "27                                                                                                                                                                                                                                                                                                                                                                                                                                                                                                                                                                                                                                                                                                                                                                                                                                                                                                                                                                                                                                                                                                                                                                                                                        final fantasy xiv is a multiplayer online role-playing video game, it has accompanied us over seven years, and now is 2018! at this time, the video games producer and director naoki yoshida, aka yoshi-p, announced the coming of patch 4.2 as well as another fan festival.\"2017 was a fantastic year. the release of our second expansion, stormblood, was a great success, and weve seen more players online than ever before... i cant thank you enough for your continued patronage,\" yoshi-p wrote in this blog post. the new expansion pack of the video game \"stormblood\" received a 9.2 out of 10 score from ign. the update was applauded for its additional storyline to the video game and new dungeons and primal fights. the first expansion pack of the video game, \"heavensward,\" also got impressive score from critics.the developer then mentioned the major patch will be released this january. another \"final fantasy xiv\" fan festival is also on its way. yoshida did not disclose any further information about the anticipated festival for 2018 and 2019. he wrote, \"im afraid youll have to wait to learn what we have in store.\"yoshida then teased fans with something he calls \"prophetic message,\" which is actually a teaser for a new content for the game. the message reads, \"as destiny is the whim of gods, so history is the whim of men. how the fallen rise and risen fall. all shall be the subjects of my pen.\"yoshida then followed the message with \"strange... i was expecting perhaps another ancient eastern proverb, or even a passage from the diary of the late archon louisoix.\"the ffxiv development team are in the middle of vacation according to his post and will resume work upon their return.\n",
       "28                                                                                                                                                                                                                                                                                                                                                                                                                                                                                                                                                                                                                                                                                                                                                                                                                                                                                                                                                                                                                                                                                                                                                                                                                                                                                                                                                                                                                                                                                                                                                                                                                                                                                                                                                                                                                                                                                                                                                                                                                                                                                                                                                                                                     the new roller coaster being built at universal orlando’s wizarding world of harry potter finally has an official name and opening date. while not many details have been officially released, we at least know it will be based around the beloved character hagrid and on magical creatures, which are of course his specialty, and that the coaster will be based on hagrid’s motorbike.the ride, with the mouthful of a name “hagrid’s magical creatures motorbike adventure,” is scheduled to open june 13 at the hogsmeade part of the wizarding world, at universal’s islands of adventure theme park. universal orlando says that more details about the ride will be released in march, but rumors are that it will be heavy on the animatronics and twists and turns.\n",
       "29                                                                                                                                                                                                                                                                                                                                                                                                                                                                                                                                                                                                                                                                                                                                                                                                                                                                                                                                                                                                                                                                                                                                                                                                                                                                                                                                                                                                                                                                                                                                                                                                                                                                                                       at this year’s computex taipei trade show, noctua displayed a wide range of upcoming products and prototypes, including a 120mm cpu cooler that rivals the performance of 140mm units, lga3647 heatsinks and all-black versions of the nh-d15, nh-u12s and nh-l9i models. the nh-d15 was awarded best cpu cooler of the year for the second time in a row by the european hardware association.the redux line will be expanded with an nh-u12 series cpu cooler. true to the spirit of the redux line, it will be a streamlined, attractively priced version of the popular nh-u12s. while the number of heatpipes and accessories will be reduced, the cooler will come with the same proven secufirm2 mounting system as noctua’s more expensive coolers. it is currently scheduled for release in q1 2019.the fan prototypes on display included slim 140×15, 80×15, 70×15 and 50x10mm a-series models as well as a 140mm counterpart of the new nf-a12x25, all of which are on the roadmap for the second half of 2019. a 6x15mm model should become available in q1 2019. in addition to the new models, noctua showed 5v and 5v pwm versions of its existing 200, 140, 120, 92, 80 and 40mm models running off a usb power bank. their release is targeted for q3 2018.\n",
       "30                                                                                                                                                                                                                                                                                                                                                                                                                                                                                                                                                                                                                                                                                                                                                                                                                                                                                                                                                                                                                                                                                                                                                                                                                                                                                                                                                                                                                                                                                                                                                                                                                         benutech, inc was founded in 2010 with the commitment and dedication to revolutionizing the real estate industry through the creation and implementation of the most advanced and intuitive technological platforms in the industry.benutech, inc offers a sharp and unparalleled approach to providing the industry with both innovative technology and elegant data solutions. we take on the viewpoint of our clients and their needs and from there, we build the tools needed to grow the most streamlined, efficient, and productive business model available.the rebogateway and rebocollab concepts were born from real-life practice by multi-million dollar real estate producers.benutech begins the development of rebogateway.benutech begins the development of rebocollab.version 1.0 rebogateway release. basic features limited to lead types.version 1.1 rebogateway was released. live farms are introduced along with over 20 new features based on user input.benutech announces new patents filed to protect rebogateways technology.beta version of rebocollab is deployed to real estate brokers.version 2.0 rebogateway scheduled to be released.we are always looking for talented and enthusiastic people. see our current job listings and apply here.copyright © 2019 rebocollab. all rights reserved. design by benutech inc.\n",
       "31                                                                                                                                                                                                                                                                                                                                                                                                                                                                                                                                                                                                                                                                                                                                                                                                                                                                                                                                                                                                                                                                                                                                                                                                                                                                                                                                                                                                                                                                                                                                                                                                                                                                                                                                                                                                                                                                                                                                                                                                                                                                                                                                                                                                                                                                                                                                                                                                                                                               premium bandai has updated with an official pre-order page for s.h.figuarts blanka. for those who are not aware, the figure is based on blanka’s appearance in both street fighter ii and street fighter iv.pre-orders for the figure will open on october 5 at 4 p.m. jst and the item will be released in march 2019 priced at 7,560 yen. those who are interested should contact their preferred middleman for more details especially it is unknown how the international release of this figure will be handled.\n",
       "32                                                                                                                                                                                                                                                                                                                                                                                                                                                                                                                                                                                                                                                                                                                                                                                                                                                                                                                                                                                                                                                                                                                                                                                                                                                                                                                                                                                                                                                                                                                                                                                                                                                                                                                                                                                                                                                                                                                                                                                                                                                                                                                                                                                                                                                                                                                                                                                                                                                                                                                                                                                                                                                                                                                                     bandai spirits is going to release the figuarts zero pirate hunter zoro ( 海賊狩りのゾロ ) non-scale pvc figure from the long-running popular shonen manga/anime “one piece” ( ワンピース ). will be released in august 2019. around 110mm tall, 4,000 yen.\n",
       "33                                                                                                                                                                                                                                                                                                                                                                                                                                                                                                                                                                                                                                                                                                                                                                                                                                                                                                                                                                                                                                                                                                                                                                                                                                                                                                                                                                                                                                                                                                                                                                                                                                                                                                                                                                                                                                                                                                                                                                                                                                                                                                                                                                                                             this is an urban fantasy/pnr series featuring rowan summerwaite, the human vessel to the goddess brigid who also happens to have been raised at the knee of the first, the oldest vampire on earth. her job is enforcing the treaty that protects humans from the vampires. goddess with a blade is book one and where rowan meets the vampire scion who is a pain in her behind and also becomes her love interest. its complicated. all the books in the series will feature rowan as the main character. book two is blade to the keep, the third book is blade on the hunt, the fourth, at blades edge. more in the series, the next book is tentatively entitled wrath of the goddess will release in june 2019 with blood and blade to follow shortly thereafter.\n",
       "34                                                                                                                                                                                                                                                                                                                                                                                                                                                                                                                                                                                                                                                                                                                                                                                                                                                                                                                                                                                                                                                                                                                                                                                                                                                                                                                                                                                                                                                                                                                                                                                                                                                                                                                                                                                                                                                                                                                                                                                                                                                                                                                                                                                                                                                                                                                                                                                                                                                                                                                                                                                         pc version now exclusive to the epic games store.operencia: the stolen sun, zen studios’ first-person dungeon rpg, will be released for xbox one as a console exclusive in 2019 alongside the previously announced pc version, which will now be released exclusively through the epic games store, the developer announced. the xbox one version will also be available on xbox game pass.\n",
       "35                                                                                                                                                                                                                                                                                                                                                                                                                                                                                                                                                                                                                                                                                                                                                                                                                                                                                                                                                                                                                                                                                                                                                                                                                                                                                                                                                                                                                                                                                                                                                                                                                                                                                                                                                                                                                                                                                                                                                                                                                                                                                                                     each summer, the pre-law institute offers a four-month-long lsat prep course. using a variety of practice materials including actual lsat exams, this course teaches the logic, reasoning, critical reading, and writing skills tested on the lsat. students selected for this competitive opportunity are given scholarships to participate.the lsat prep program runs every summer from june until early september. the schedule will be released before may.applications for the summer 2019 lsat prep program will be available here before may. the 2019 summer lsat prep course is open to students and alumni in the classes of 2018, 2019 and 2020. because we are funded by undergraduate studies, we are unable to accept applications from graduate students (except for those who graduated from john jay with a bachelors degree in 2018 or 2019).\n",
       "36                                                                                                                                                                                                                                                                                                                                                                                                                                                                                                                                                                                                                                                                                                                                                                                                                                                                                                                                                                                                                                                                                                                                                                                                                                                                                                                                                                                                                                                                                                                                                                                                                                 просмотр документальных фильмов в imax не только увлекательное, но и полезное времяпрепровождение. это прекрасная возможность открыть для себя неизведанные миры и детально рассмотреть удивительные уголки планеты. неотъемлемая часть деятельности imax — сотрудничество с музеями и образовательными учреждениями.we also provide comprehensive supplemental materials for teachers, allowing the learning to continue beyond the theatre.everyday should be national love your pet day!watch narrator, chris evans hangs out with superpower dogsstar, henry and expresses how remarkable and amazing dogs are.join in on the immersive journey as these these extraordinary dogs, showcase their life-saving powers and spectacular bravery.experience superpower dogsin imax theatres beginning march 15, 2019.learn more at www.superpowerdogs.com .the highly-anticipated documentary, apollo 11, will be digitally re-mastered in imax and will release exclusively in imax theatres for one week only beginning march 1, 2019.crafted from a newly discovered trove of 65mm footage, and more than 11,000 hours of uncatalogued audio recordings, apollo 11takes us straight to the heart of nasa’s most celebrated mission—the one that first put men on the moon, and forever made neil armstrong and buzz aldrin into household names.\n",
       "37                                                                                                                                                                                                                                                                                                                                                                                                                                                                                                                                                                                                                                                                                                                                                                                                                                                                                                                                                                                                                                                                                                                                                                                                                                                                                                                                                                                                                                                                                                                                                                                                                                                                                                                                                                                                                                                                                                                                                                                                                                                                                                                                                                                                                                                                                                                                                                                                                                                                                                                                                                                                                                   valid until...were not entirely sure!?rock paper scissors lizard spock t-shirt.rock paper scissors is printed on a high quality cotton t-shirt. cool design inspired by the big bang theory.10 types of people hoodie.when do i get it: this item is available for pre-order. the expected release date is 28 june 2019 but is subject to change.\n",
       "38                                                                                                                                                                                                                                                                                                                                                                                                                                                                                                                                                                                                                                                                                                                                                                                                                                                                                                                                                                                                                                                                                                                                                                                                                                                                                                                                                                                                                                                                                                                                                                                                                                                                                                                                                                                                                                                                                                                                                                                                                                                                                                                                                                                                                                                                                                                                                                                                                                                                                                                                                                                                                                                                  mortal kombat 11 was released on pc, ps4, switch and xbox one 2d ago in the us and the uk. the upcoming mortal kombat 11 release date is may 10, 2019 in the uk and the us.notify me when mortal kombat 11 is available.based on 18 mortal kombat 11 reviews, mortal kombat 11 gets an average review score of 82.\n",
       "39                                                                                                                                                                                                                                                                                                                                                                                                                                                                                                                                                                                                                                                                                                                                                                                                                                                                                                                                                                                                                                                                                                                                                                                                                                                                                                                                                                                                                                                                                                                                                                                                               it is official! all three games within the famed trine series will be coming to nintendo switch. the quest begins with trine enchanted edition, available on nintendo eshop today in north america and europe.in addition, trine 2: complete story and trine 3: the artifacts of power will be coming to nintendo switch as well, however at the moment here has been no exact release date. while developer blitwork studios will be handling development duties of the trilogy for the nintendo switch, developer frozenbyte is still full steam ahead with their production of the fourth game in the serie, trine 4: the nightmare prince, announced as a 2019 launch title.trine enchanted edition is the origin story for the three unlikely heroes of trine – amadeus the wizard, pontius the knight, and zoya the thief. spellbound by the magical object trine, the heroes must join forces to overcome obstacles and puzzles in a fully interactive physics-based world, battle the undead and their minions, and restore balance to the kingdom!– action and platforming in a fantasy fairytale world, featuring 15 breathtaking levels full of dangerous enemies, hazards, and physics-based puzzles.– solve challenges and puzzles in many different ways by combining the characters’ abilities, and come up with creative solutions never seen before!\n",
       "Name: text, dtype: object"
      ]
     },
     "execution_count": 26,
     "metadata": {},
     "output_type": "execute_result"
    }
   ],
   "source": [
    "df_final.text.head(40)"
   ]
  },
  {
   "cell_type": "code",
   "execution_count": 27,
   "metadata": {},
   "outputs": [
    {
     "data": {
      "text/plain": [
       "judgments                                                                                                                                                                                                                                                                                                                                                                                                                                                                                                                                                                                                                                                                                                                                                                                                                                                                                                                                                                                                                                                                                                                                                                                                                                                                                                                                                       6\n",
       "label                                                                                                                                                                                                                                                                                                                                                                                                                                                                                                                                                                                                                                                                                                                                                                                                                                                                                                                                                                                                                                                                                                                                                                                                                                                                                                                text_doesnt_include_a_future_product_release\n",
       "confidence                                                                                                                                                                                                                                                                                                                                                                                                                                                                                                                                                                                                                                                                                                                                                                                                                                                                                                                                                                                                                                                                                                                                                                                                                                                                                                                                                 0.6712\n",
       "text          просмотр документальных фильмов в imax не только увлекательное, но и полезное времяпрепровождение. это прекрасная возможность открыть для себя неизведанные миры и детально рассмотреть удивительные уголки планеты. неотъемлемая часть деятельности imax — сотрудничество с музеями и образовательными учреждениями.we also provide comprehensive supplemental materials for teachers, allowing the learning to continue beyond the theatre.everyday should be national love your pet day!watch narrator, chris evans hangs out with superpower dogsstar, henry and expresses how remarkable and amazing dogs are.join in on the immersive journey as these these extraordinary dogs, showcase their life-saving powers and spectacular bravery.experience superpower dogsin imax theatres beginning march 15, 2019.learn more at www.superpowerdogs.com .the highly-anticipated documentary, apollo 11, will be digitally re-mastered in imax and will release exclusively in imax theatres for one week only beginning march 1, 2019.crafted from a newly discovered trove of 65mm footage, and more than 11,000 hours of uncatalogued audio recordings, apollo 11takes us straight to the heart of nasa’s most celebrated mission—the one that first put men on the moon, and forever made neil armstrong and buzz aldrin into household names.\n",
       "Name: 36, dtype: object"
      ]
     },
     "execution_count": 27,
     "metadata": {},
     "output_type": "execute_result"
    }
   ],
   "source": [
    "df_final.iloc[36]"
   ]
  },
  {
   "cell_type": "code",
   "execution_count": 29,
   "metadata": {},
   "outputs": [
    {
     "data": {
      "text/plain": [
       "(29994, 4)"
      ]
     },
     "execution_count": 29,
     "metadata": {},
     "output_type": "execute_result"
    }
   ],
   "source": [
    "df_final.shape"
   ]
  },
  {
   "cell_type": "code",
   "execution_count": 30,
   "metadata": {},
   "outputs": [],
   "source": [
    "df_final.to_csv(f\"{file_dir}/product_releases_v1_dataset.csv\", index=False)"
   ]
  },
  {
   "cell_type": "code",
   "execution_count": 32,
   "metadata": {},
   "outputs": [
    {
     "data": {
      "text/plain": [
       "(19266, 4)"
      ]
     },
     "execution_count": 32,
     "metadata": {},
     "output_type": "execute_result"
    }
   ],
   "source": [
    "df_final[df_final.confidence > 0.7].shape"
   ]
  },
  {
   "cell_type": "code",
   "execution_count": 34,
   "metadata": {},
   "outputs": [
    {
     "data": {
      "text/plain": [
       "(4688, 4)"
      ]
     },
     "execution_count": 34,
     "metadata": {},
     "output_type": "execute_result"
    }
   ],
   "source": [
    "df_final[df_final.confidence >= 1].shape"
   ]
  },
  {
   "cell_type": "code",
   "execution_count": 41,
   "metadata": {},
   "outputs": [],
   "source": [
    "import transformers"
   ]
  },
  {
   "cell_type": "code",
   "execution_count": 47,
   "metadata": {},
   "outputs": [],
   "source": [
    "from transformers import AutoTokenizer"
   ]
  },
  {
   "cell_type": "code",
   "execution_count": 48,
   "metadata": {
    "scrolled": true
   },
   "outputs": [
    {
     "data": {
      "application/vnd.jupyter.widget-view+json": {
       "model_id": "170868b5f7004906a75da55904a768fd",
       "version_major": 2,
       "version_minor": 0
      },
      "text/plain": [
       "HBox(children=(HTML(value='Downloading'), FloatProgress(value=0.0, max=28.0), HTML(value='')))"
      ]
     },
     "metadata": {},
     "output_type": "display_data"
    },
    {
     "name": "stdout",
     "output_type": "stream",
     "text": [
      "\n"
     ]
    },
    {
     "data": {
      "application/vnd.jupyter.widget-view+json": {
       "model_id": "74a95891663c482da58233f9052eb7f1",
       "version_major": 2,
       "version_minor": 0
      },
      "text/plain": [
       "HBox(children=(HTML(value='Downloading'), FloatProgress(value=0.0, max=570.0), HTML(value='')))"
      ]
     },
     "metadata": {},
     "output_type": "display_data"
    },
    {
     "name": "stdout",
     "output_type": "stream",
     "text": [
      "\n"
     ]
    },
    {
     "data": {
      "application/vnd.jupyter.widget-view+json": {
       "model_id": "d3acbe1a790a4db69543d3b8030fbc8e",
       "version_major": 2,
       "version_minor": 0
      },
      "text/plain": [
       "HBox(children=(HTML(value='Downloading'), FloatProgress(value=0.0, max=231508.0), HTML(value='')))"
      ]
     },
     "metadata": {},
     "output_type": "display_data"
    },
    {
     "name": "stdout",
     "output_type": "stream",
     "text": [
      "\n"
     ]
    },
    {
     "data": {
      "application/vnd.jupyter.widget-view+json": {
       "model_id": "ccfb925bae674eada46811152dffa0f2",
       "version_major": 2,
       "version_minor": 0
      },
      "text/plain": [
       "HBox(children=(HTML(value='Downloading'), FloatProgress(value=0.0, max=466062.0), HTML(value='')))"
      ]
     },
     "metadata": {},
     "output_type": "display_data"
    },
    {
     "name": "stdout",
     "output_type": "stream",
     "text": [
      "\n"
     ]
    }
   ],
   "source": [
    "tokenizer = AutoTokenizer.from_pretrained(\"bert-base-uncased\")"
   ]
  },
  {
   "cell_type": "code",
   "execution_count": 73,
   "metadata": {},
   "outputs": [],
   "source": [
    "inputs = [tokenizer(i, return_tensors=\"pt\") for i in df_final.text]"
   ]
  },
  {
   "cell_type": "code",
   "execution_count": 74,
   "metadata": {},
   "outputs": [],
   "source": [
    "subtokens = [len(i[0]) for i in inputs]"
   ]
  },
  {
   "cell_type": "code",
   "execution_count": 77,
   "metadata": {},
   "outputs": [
    {
     "data": {
      "text/plain": [
       "122"
      ]
     },
     "execution_count": 77,
     "metadata": {},
     "output_type": "execute_result"
    }
   ],
   "source": [
    "subtokens[1000]"
   ]
  },
  {
   "cell_type": "code",
   "execution_count": 78,
   "metadata": {},
   "outputs": [
    {
     "data": {
      "text/plain": [
       "count    29994.000000\n",
       "mean       323.749583\n",
       "std        157.555046\n",
       "min         25.000000\n",
       "25%        197.000000\n",
       "50%        312.000000\n",
       "75%        439.000000\n",
       "max       1869.000000\n",
       "dtype: float64"
      ]
     },
     "execution_count": 78,
     "metadata": {},
     "output_type": "execute_result"
    }
   ],
   "source": [
    "pd.Series(subtokens).describe()"
   ]
  },
  {
   "cell_type": "code",
   "execution_count": null,
   "metadata": {},
   "outputs": [],
   "source": []
  }
 ],
 "metadata": {
  "kernelspec": {
   "display_name": "Python 3",
   "language": "python",
   "name": "python3"
  },
  "language_info": {
   "codemirror_mode": {
    "name": "ipython",
    "version": 3
   },
   "file_extension": ".py",
   "mimetype": "text/x-python",
   "name": "python",
   "nbconvert_exporter": "python",
   "pygments_lexer": "ipython3",
   "version": "3.8.5"
  }
 },
 "nbformat": 4,
 "nbformat_minor": 4
}
